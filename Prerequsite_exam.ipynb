{
  "nbformat": 4,
  "nbformat_minor": 0,
  "metadata": {
    "colab": {
      "provenance": []
    },
    "kernelspec": {
      "name": "python3",
      "display_name": "Python 3"
    },
    "language_info": {
      "name": "python"
    }
  },
  "cells": [
    {
      "cell_type": "markdown",
      "source": [
        "### Question 1\n",
        "How many multiplications and additions do you need to perform a matrix multiplication between a (n, k) and (k, m) matrix? Explain."
      ],
      "metadata": {
        "id": "htwYWWIFpLg4"
      }
    },
    {
      "cell_type": "markdown",
      "source": [
        "**->** Matrix multiplication between a (n,k) matrix and a (k,m) matrix results in a (n,m) matrix. The number of multiplications and additions required can be calculated as follows-\n",
        "\n",
        "For each element in the resulting matrix (n,m), we perform k multiplications and (k-1) additions.\n",
        "\n",
        "For an (n,m) matrix, there are n * m elements. Therefore, the total number of multiplications and additions for the entire matrix multiplication is-\n",
        "\n",
        "Multiplications: n * m * k  \n",
        "Additions: n * m * (k-1)"
      ],
      "metadata": {
        "id": "nwdbyF2ipcG1"
      }
    },
    {
      "cell_type": "markdown",
      "source": [
        "### Question 2\n",
        "Write Python code to multiply the above two matrices. Solve using list of lists and then use numpy. Compare the timing of both solutions. Which one is faster? Why?"
      ],
      "metadata": {
        "id": "0Mz66CiGpfWo"
      }
    },
    {
      "cell_type": "code",
      "source": [
        "import numpy as np\n",
        "import time\n",
        "\n",
        "a=np.random.randint(9,size=(100,25))\n",
        "print(\"a:\")\n",
        "print(a)\n",
        "\n",
        "b=np.random.randint(9,size=(25,75))\n",
        "print(\"b:\")\n",
        "print(b)\n",
        "\n",
        "print()\n",
        "\n",
        "print(\"Multiplication without numpy-\")\n",
        "begin1=time.time()\n",
        "m=np.zeros((100,75))\n",
        "for i in range(len(a)):\n",
        "  for j in range(len(b[0])):\n",
        "    for k in range(len(b)):\n",
        "       m[i][j]+=a[i][k]*b[k][j]\n",
        "end1=time.time()\n",
        "print(\"Time taken without numpy is\", end1 - begin1)\n",
        "\n",
        "print()\n",
        "\n",
        "print(\"Multiplication with numpy-\")\n",
        "begin2=time.time()\n",
        "M=np.matmul(a,b)\n",
        "end2=time.time()\n",
        "print(\"Time taken with numpy is\", end2 - begin2)"
      ],
      "metadata": {
        "colab": {
          "base_uri": "https://localhost:8080/"
        },
        "id": "q0yZfuj6pn2Y",
        "outputId": "959b6ff0-75de-480f-8138-e006d60d872d"
      },
      "execution_count": 1,
      "outputs": [
        {
          "output_type": "stream",
          "name": "stdout",
          "text": [
            "a:\n",
            "[[6 2 6 ... 6 4 6]\n",
            " [4 3 6 ... 2 0 2]\n",
            " [0 3 8 ... 8 4 1]\n",
            " ...\n",
            " [4 6 0 ... 3 3 0]\n",
            " [2 2 7 ... 3 0 5]\n",
            " [1 8 3 ... 8 6 2]]\n",
            "b:\n",
            "[[5 0 6 ... 2 3 6]\n",
            " [5 8 4 ... 6 3 3]\n",
            " [4 0 4 ... 4 7 5]\n",
            " ...\n",
            " [2 4 0 ... 7 3 0]\n",
            " [4 5 0 ... 5 2 8]\n",
            " [7 8 1 ... 2 8 5]]\n",
            "\n",
            "Multiplication without numpy-\n",
            "Time taken without numpy is 0.4536430835723877\n",
            "\n",
            "Multiplication with numpy-\n",
            "Time taken with numpy is 0.0007386207580566406\n"
          ]
        }
      ]
    },
    {
      "cell_type": "markdown",
      "source": [
        "We can clearly see that numpy multiplication is faster.\n",
        "\n",
        "The reason why numpy multiplication is faster than multiplication using list of lists is because of two main reasons-\n",
        "\n",
        "1. Vectorization: Numpy operations are vectorized, meaning they operate on entire arrays (or matrices) at once. This allows Numpy to fastly execute.\n",
        "2. Parallelization: NumPy can take advantage of parallel processing when performing certain operations, making it faster for large-scale matrix multiplications."
      ],
      "metadata": {
        "id": "wCmBYpoyrGXk"
      }
    },
    {
      "cell_type": "markdown",
      "source": [
        "### Question 3\n",
        "Finding the highest element in a list requires one pass of the array. Finding the second highest element requires 2 passes of the the array. Using this method, what is the time complexity of finding the median of the array? Can you suggest a better method? Can you implement both these methods in Python and compare against numpy.median routine in terms of time?"
      ],
      "metadata": {
        "id": "IWu68idSrN78"
      }
    },
    {
      "cell_type": "code",
      "source": [
        "import numpy as np\n",
        "import copy\n",
        "import time\n",
        "\n",
        "arr=[np.random.randint(1,100) for _ in range(10)]\n",
        "print(\"Array:\", arr)\n",
        "arr1=copy.copy(arr)\n",
        "arr2=copy.copy(arr)\n",
        "\n",
        "print()\n",
        "\n",
        "begin1=time.time()\n",
        "m=min(arr)\n",
        "for j in range((len(arr)//2)-1):\n",
        "  max_ind=0\n",
        "  M=arr[0]\n",
        "  for i in range(len(arr)):\n",
        "    if M<=arr[i]:\n",
        "      M=arr[i]\n",
        "      max_ind=i\n",
        "  arr[max_ind]=m\n",
        "max_ind1=0\n",
        "M1=arr[0]\n",
        "for i in range(len(arr)):\n",
        "  if M1<=arr[i]:\n",
        "    M1=arr[i]\n",
        "    max_ind1=i\n",
        "arr[max_ind1]=m\n",
        "med1=(max(arr)+M1)/2\n",
        "end1=time.time()\n",
        "print(\"Median using given method:\",med1)\n",
        "print(\"Time taken:\",end1-begin1)\n",
        "\n",
        "print()\n",
        "\n",
        "begin2=time.time()\n",
        "arr1.sort()\n",
        "n=(len(arr1)-1)//2\n",
        "med2=(arr1[n]+arr1[n+1])/2\n",
        "end2=time.time()\n",
        "print(\"Median using sorting:\",med2)\n",
        "print(\"Time taken:\",end2-begin2)\n",
        "\n",
        "print()\n",
        "\n",
        "begin3=time.time()\n",
        "med3=np.median(arr2)\n",
        "end3=time.time()\n",
        "print(\"Median using numpy:\",med3)\n",
        "print(\"Time taken:\",end3-begin3)"
      ],
      "metadata": {
        "colab": {
          "base_uri": "https://localhost:8080/"
        },
        "id": "HXAE7UxYrWXI",
        "outputId": "80178478-4c7e-4cf4-9ac9-72d74261f916"
      },
      "execution_count": 2,
      "outputs": [
        {
          "output_type": "stream",
          "name": "stdout",
          "text": [
            "Array: [3, 4, 20, 62, 97, 92, 4, 11, 53, 6]\n",
            "\n",
            "Median using given method: 15.5\n",
            "Time taken: 0.0006303787231445312\n",
            "\n",
            "Median using sorting: 15.5\n",
            "Time taken: 0.0002300739288330078\n",
            "\n",
            "Median using numpy: 15.5\n",
            "Time taken: 0.003453969955444336\n"
          ]
        }
      ]
    },
    {
      "cell_type": "markdown",
      "source": [
        "Calculating median of array by calculating maximum element approx $n/2$ times takes around $n*(n/2)$ steps as calculating maximum element in an array takes $n$ steps.\n",
        "\n",
        "Hence the time complexity of calculating median by calculating largest elements\n",
        "$n/2$ times is $O(n^2)$.\n",
        "\n",
        "We can do better by first sorting the array and taking the $\\frac{(\\frac{(n-1)}{2}^{th} element + \\frac{(n+1)}{2}^{th} element)}{2}$ of the array because our $n$ is even."
      ],
      "metadata": {
        "id": "Enc7J9A__SV6"
      }
    },
    {
      "cell_type": "markdown",
      "source": [
        "### Question 4\n",
        "What is the gradient of the following function with respect to x and y?                      \n",
        "$ x^2y + y^3\\sin(x) $"
      ],
      "metadata": {
        "id": "RzB4BE1a_UNO"
      }
    },
    {
      "cell_type": "markdown",
      "source": [
        "Gradient with respect to x:\n",
        "$2xy + y^3cos(x)$\n",
        "\n",
        "Gradient with respect to y:\n",
        "$x^2 + 3y^2sin(x)$"
      ],
      "metadata": {
        "id": "hcSoc861Byfo"
      }
    },
    {
      "cell_type": "markdown",
      "source": [
        "### Question 5\n",
        "Use JAX to confirm the gradient evaluated by your method matches the analytical solution corresponding to a few random values of x and y."
      ],
      "metadata": {
        "id": "ZVxVSmY6BzdN"
      }
    },
    {
      "cell_type": "code",
      "source": [
        "import jax\n",
        "import jax.numpy as jnp\n",
        "\n",
        "def f(x,y):\n",
        "  return (x**2)*y + (y**3)*jnp.sin(x)\n",
        "def fx(x,y):\n",
        "  return 2*x*y + (y**3)*jnp.cos(x)\n",
        "def fy(x,y):\n",
        "  return x**2 + 3*(y**2)*jnp.sin(x)\n",
        "\n",
        "grad_x=jax.grad(f,argnums=0)\n",
        "print(\"Gradient w.r.t. x using jax:\")\n",
        "print(\"At x=1 and y=1 is:\",grad_x(1.0,1.0))\n",
        "print(\"At x=2 and y=2 is:\",grad_x(2.0,2.0))\n",
        "print(\"At x=3 and y=3 is:\",grad_x(3.0,3.0))\n",
        "print()\n",
        "\n",
        "print(\"Gradient w.r.t. x using analytical solution:\")\n",
        "print(\"At x=1 and y=1 is:\",fx(1,1))\n",
        "print(\"At x=2 and y=2 is:\",fx(2,2))\n",
        "print(\"At x=3 and y=3 is:\",fx(3,3))\n",
        "print()\n",
        "\n",
        "grad_y=jax.grad(f,argnums=1)\n",
        "print(\"Gradient w.r.t. y using jax:\")\n",
        "print(\"At x=1 and y=1 is:\",grad_y(1.0,1.0))\n",
        "print(\"At x=2 and y=2 is:\",grad_y(2.0,2.0))\n",
        "print(\"At x=3 and y=3 is:\",grad_y(3.0,3.0))\n",
        "print()\n",
        "\n",
        "print(\"Gradient w.r.t. y using analytical solution:\")\n",
        "print(\"At x=1 and y=1 is:\",fy(1,1))\n",
        "print(\"At x=2 and y=2 is:\",fy(2,2))\n",
        "print(\"At x=3 and y=3 is:\",fy(3,3))\n"
      ],
      "metadata": {
        "colab": {
          "base_uri": "https://localhost:8080/"
        },
        "id": "grj6SdEBB_Y3",
        "outputId": "98a596fc-f510-4b23-df53-bd9c95085b78"
      },
      "execution_count": 3,
      "outputs": [
        {
          "output_type": "stream",
          "name": "stdout",
          "text": [
            "Gradient w.r.t. x using jax:\n",
            "At x=1 and y=1 is: 2.5403023\n",
            "At x=2 and y=2 is: 4.670825\n",
            "At x=3 and y=3 is: -8.729797\n",
            "\n",
            "Gradient w.r.t. x using analytical solution:\n",
            "At x=1 and y=1 is: 2.5403023\n",
            "At x=2 and y=2 is: 4.670825\n",
            "At x=3 and y=3 is: -8.729797\n",
            "\n",
            "Gradient w.r.t. y using jax:\n",
            "At x=1 and y=1 is: 3.5244129\n",
            "At x=2 and y=2 is: 14.911569\n",
            "At x=3 and y=3 is: 12.81024\n",
            "\n",
            "Gradient w.r.t. y using analytical solution:\n",
            "At x=1 and y=1 is: 3.5244129\n",
            "At x=2 and y=2 is: 14.911569\n",
            "At x=3 and y=3 is: 12.81024\n"
          ]
        }
      ]
    },
    {
      "cell_type": "markdown",
      "source": [
        "### Question 6\n",
        "Use sympy to confirm that you obtain the same gradient analytically."
      ],
      "metadata": {
        "id": "JA9MoE-UHCyy"
      }
    },
    {
      "cell_type": "code",
      "source": [
        "import sympy as sp\n",
        "\n",
        "x,y=sp.symbols('x y')\n",
        "f=(x**2)*y + (y**3)*sp.sin(x)\n",
        "\n",
        "fx=sp.diff(f,x)\n",
        "print(\"Gradient of function f w.r.t. x:\",fx)\n",
        "fy=sp.diff(f,y)\n",
        "print(\"Gradient of function f w.r.t. y:\",fy)"
      ],
      "metadata": {
        "colab": {
          "base_uri": "https://localhost:8080/"
        },
        "id": "lgjPLiYYHORu",
        "outputId": "07290aae-77a9-4973-d7c2-880e05d14f9a"
      },
      "execution_count": 4,
      "outputs": [
        {
          "output_type": "stream",
          "name": "stdout",
          "text": [
            "Gradient of function f w.r.t. x: 2*x*y + y**3*cos(x)\n",
            "Gradient of function f w.r.t. y: x**2 + 3*y**2*sin(x)\n"
          ]
        }
      ]
    },
    {
      "cell_type": "markdown",
      "source": [
        "### Question 7\n",
        "Create a Python nested dictionary to represent hierarchical information. We want to store record of students and their marks. Something like:\n",
        "\n",
        "1. 2022\n",
        "  1. Branch 1\n",
        "    1. Roll Number: 1, Name: N, Marks:\n",
        "       1. Maths: 100, English: 70 …\n",
        "  2. Branch 2\n",
        "2. 2023\n",
        "  1. Branch 1\n",
        "  2. Branch 2\n",
        "3. 2024\n",
        "  1. Branch 1\n",
        "  2. Branch 2\n",
        "4. 2025\n",
        "  1. Branch 1\n",
        "  2. Branch 2"
      ],
      "metadata": {
        "id": "WUKgvXunIYh-"
      }
    },
    {
      "cell_type": "code",
      "source": [
        "data={2022:{'Branch 1':{'Roll Number 1':{'Name':'Naman','Marks':{'Maths':100,'English':70,'Physics':85}}},\n",
        "            'Branch 2':{'Roll Number 1':{'Name':'Namo','Marks':{'Maths':70,'English':80,'Physics':65}}}},\n",
        "      2023:{'Branch 1':{'Roll Number 1':{'Name':'Naan','Marks':{'Maths':0,'English':90,'Physics':95}}},\n",
        "            'Branch 2':{'Roll Number 1':{'Name':'Nao','Marks':{'Maths':40,'English':40,'Physics':85}}}},\n",
        "      2024:{'Branch 1':{'Roll Number 1':{'Name':'Namy','Marks':{'Maths':100,'English':90,'Physics':95}}},\n",
        "            'Branch 2':{'Roll Number 1':{'Name':'Nancy','Marks':{'Maths':50,'English':70,'Physics':65}}}},\n",
        "      2025:{'Branch 1':{'Roll Number 1':{'Name':'Noony','Marks':{'Maths':60,'English':100,'Physics':65}}},\n",
        "            'Branch 2':{'Roll Number 1':{'Name':'Nany','Marks':{'Maths':60,'English':70,'Physics':85}}}}}\n",
        "\n",
        "# Example-\n",
        "print(data[2022]['Branch 1'])\n",
        "print(data[2023]['Branch 1']['Roll Number 1'])\n",
        "print(data[2024]['Branch 2']['Roll Number 1']['Marks'])\n",
        "print(data[2025]['Branch 1']['Roll Number 1']['Marks']['Physics'])"
      ],
      "metadata": {
        "colab": {
          "base_uri": "https://localhost:8080/"
        },
        "id": "90jriURqJngB",
        "outputId": "0559c3e7-4a6d-4281-9612-92d074f26c67"
      },
      "execution_count": 5,
      "outputs": [
        {
          "output_type": "stream",
          "name": "stdout",
          "text": [
            "{'Roll Number 1': {'Name': 'Naman', 'Marks': {'Maths': 100, 'English': 70, 'Physics': 85}}}\n",
            "{'Name': 'Naan', 'Marks': {'Maths': 0, 'English': 90, 'Physics': 95}}\n",
            "{'Maths': 50, 'English': 70, 'Physics': 65}\n",
            "65\n"
          ]
        }
      ]
    },
    {
      "cell_type": "markdown",
      "source": [
        "### Question 8\n",
        "Store the same information using Python classes. We have an overall database which is a list of year objects. Each year contains a list of branches. Each branch contains a list of students. Each student has some properties like name, roll number and has marks in some subjects."
      ],
      "metadata": {
        "id": "r8j4b_wrQwJ5"
      }
    },
    {
      "cell_type": "code",
      "source": [
        "class Student:\n",
        "    def __init__(self,roll_number,name,marks):\n",
        "        self.roll_number=roll_number\n",
        "        self.name=name\n",
        "        self.marks=marks\n",
        "\n",
        "class Branch:\n",
        "   def __init__(self,name):\n",
        "        self.name=name\n",
        "        self.students=[]\n",
        "\n",
        "   def add_student(self,student):\n",
        "        self.students.append(student)\n",
        "\n",
        "class Year:\n",
        "    def __init__(self,year):\n",
        "        self.year=year\n",
        "        self.branches=[]\n",
        "\n",
        "    def add_branch(self,branch):\n",
        "        self.branches.append(branch)\n",
        "\n",
        "\n",
        "# Example-\n",
        "database=[]\n",
        "\n",
        "year2022=Year(2022)\n",
        "branch1_2022=Branch('1')\n",
        "student1_2022=Student(1,'Naman',{'Maths':100,'English':70,'Physics':85})\n",
        "branch1_2022.add_student(student1_2022)\n",
        "year2022.add_branch(branch1_2022)\n",
        "\n",
        "branch2_2022=Branch('2')\n",
        "student2_2022=Student(1,'Namo',{'Maths':70,'English':80,'Physics':65})\n",
        "branch2_2022.add_student(student2_2022)\n",
        "year2022.add_branch(branch2_2022)\n",
        "database.append(year2022)\n",
        "\n",
        "for year in database:\n",
        "    print(f'Year {year.year}:')\n",
        "    for branch in year.branches:\n",
        "        print(f'  Branch:{branch.name}')\n",
        "        for student in branch.students:\n",
        "            print(f'    Roll Number:{student.roll_number}')\n",
        "            print(f'      Name:{student.name}')\n",
        "            print('      Marks:')\n",
        "            for subject, score in student.marks.items():\n",
        "                print(f'        {subject}:{score}')"
      ],
      "metadata": {
        "colab": {
          "base_uri": "https://localhost:8080/"
        },
        "id": "bTbT-jh6Q-rZ",
        "outputId": "14421ba6-f9cc-428a-f26e-aa6b4d3a12d5"
      },
      "execution_count": 7,
      "outputs": [
        {
          "output_type": "stream",
          "name": "stdout",
          "text": [
            "Year 2022:\n",
            "  Branch:1\n",
            "    Roll Number:1\n",
            "      Name:Naman\n",
            "      Marks:\n",
            "        Maths:100\n",
            "        English:70\n",
            "        Physics:85\n",
            "  Branch:2\n",
            "    Roll Number:1\n",
            "      Name:Namo\n",
            "      Marks:\n",
            "        Maths:70\n",
            "        English:80\n",
            "        Physics:65\n"
          ]
        }
      ]
    },
    {
      "cell_type": "markdown",
      "source": [
        "### Question 9\n",
        "Using matplotlib plot the following functions on the domain: x = 0.5 to 100.0 in steps of 0.5.\n",
        "1. $y=x$\n",
        "2. $y=x^2$\n",
        "3. $y=\\frac{x^3}{100}$\n",
        "4. $y=\\sin(x)$\n",
        "5. $y=\\frac{\\sin(x)}{x}$\n",
        "6. $y=\\log(x)$\n",
        "7. $y=e^x$"
      ],
      "metadata": {
        "id": "VjaItcAiZZO-"
      }
    },
    {
      "cell_type": "code",
      "source": [
        "import matplotlib.pyplot as plt\n",
        "import numpy as np\n",
        "\n",
        "x=np.arange(0.5,100.5,0.5)\n",
        "\n",
        "y1=x\n",
        "y2=x**2\n",
        "y3=(x**3)/100\n",
        "y4=np.sin(x)\n",
        "y5=(np.sin(x))/x\n",
        "y6=np.log(x)\n",
        "y7=np.exp(x)\n",
        "\n",
        "plt.figure(figsize=(10, 10))\n",
        "\n",
        "plt.subplot(4,2,1)\n",
        "plt.plot(x,y1)\n",
        "plt.title('$y = x$')\n",
        "\n",
        "plt.subplot(4,2,2)\n",
        "plt.plot(x,y2)\n",
        "plt.title('$y = x^2$')\n",
        "\n",
        "plt.subplot(4,2,3)\n",
        "plt.plot(x,y3)\n",
        "plt.title('$y = \\\\frac{x^3}{100}$')\n",
        "\n",
        "plt.subplot(4,2,4)\n",
        "plt.plot(x,y4)\n",
        "plt.title('$y = \\\\sin(x)$')\n",
        "\n",
        "plt.subplot(4,2,5)\n",
        "plt.plot(x,y5)\n",
        "plt.title('$y = \\\\frac{\\\\sin(x)}{x}$')\n",
        "\n",
        "plt.subplot(4,2,6)\n",
        "plt.plot(x,y6)\n",
        "plt.title('$y = \\\\log(x)$')\n",
        "\n",
        "plt.subplot(4,2,7)\n",
        "plt.plot(x,y7)\n",
        "plt.title('$y = e^x$')\n",
        "\n",
        "plt.tight_layout()\n",
        "plt.show()"
      ],
      "metadata": {
        "colab": {
          "base_uri": "https://localhost:8080/",
          "height": 1000
        },
        "id": "oHimzXqlbRrW",
        "outputId": "b6013766-9f11-41b1-cea1-2783915c2cad"
      },
      "execution_count": 8,
      "outputs": [
        {
          "output_type": "display_data",
          "data": {
            "text/plain": [
              "<Figure size 1000x1000 with 7 Axes>"
            ],
            "image/png": "[encoded data removed]"
          },
          "metadata": {}
        }
      ]
    },
    {
      "cell_type": "markdown",
      "source": [
        "### Question 10\n",
        "Using numpy generate a matrix of size 20X5 containing random numbers drawn uniformly from the range of 1 to 2. Using Pandas create a dataframe out of this matrix. Name the columns of the dataframe as “a”, “b”, “c”, “d”, “e”. Find the column with the highest standard deviation. Find the row with the lowest mean."
      ],
      "metadata": {
        "id": "mR9_ILKcd1_7"
      }
    },
    {
      "cell_type": "code",
      "source": [
        "import numpy as np\n",
        "import pandas as pd\n",
        "\n",
        "matrix=np.random.uniform(1,2,size=(20,5))\n",
        "df=pd.DataFrame(matrix,columns=['a','b','c','d','e'])\n",
        "max_std_col=df.std().idxmax()\n",
        "min_mean_row=df.mean(axis=1).idxmin()\n",
        "\n",
        "print('DataFrame:')\n",
        "print(df)\n",
        "print()\n",
        "\n",
        "print('Column with the highest standard deviation:',max_std_col)\n",
        "print('Row with the lowest mean:',min_mean_row)\n"
      ],
      "metadata": {
        "colab": {
          "base_uri": "https://localhost:8080/"
        },
        "id": "07ynLPxqd9j3",
        "outputId": "6ff2f40e-b6a7-42fd-d26d-12e85e4decb2"
      },
      "execution_count": 9,
      "outputs": [
        {
          "output_type": "stream",
          "name": "stdout",
          "text": [
            "DataFrame:\n",
            "           a         b         c         d         e\n",
            "0   1.444849  1.663034  1.130766  1.646981  1.455060\n",
            "1   1.697295  1.900342  1.205262  1.635192  1.146071\n",
            "2   1.227223  1.898021  1.554978  1.605396  1.344787\n",
            "3   1.925628  1.479840  1.893162  1.627961  1.055355\n",
            "4   1.379368  1.237838  1.150245  1.317257  1.429572\n",
            "5   1.430287  1.976982  1.688274  1.076918  1.676510\n",
            "6   1.714168  1.209684  1.923654  1.267743  1.641483\n",
            "7   1.507958  1.529805  1.290775  1.842902  1.118576\n",
            "8   1.081306  1.128180  1.168970  1.947624  1.166355\n",
            "9   1.117088  1.594905  1.320821  1.775416  1.723045\n",
            "10  1.066930  1.999299  1.636577  1.420683  1.770696\n",
            "11  1.154895  1.231961  1.821980  1.345169  1.166932\n",
            "12  1.948122  1.541616  1.208383  1.188441  1.219945\n",
            "13  1.871574  1.799082  1.950450  1.921330  1.275938\n",
            "14  1.670988  1.537101  1.135288  1.610576  1.254537\n",
            "15  1.292039  1.002709  1.077803  1.688119  1.950220\n",
            "16  1.234329  1.293694  1.508507  1.799940  1.701270\n",
            "17  1.472898  1.670349  1.117714  1.328941  1.671376\n",
            "18  1.109074  1.998864  1.124417  1.638149  1.482859\n",
            "19  1.772140  1.872103  1.778347  1.963020  1.299852\n",
            "\n",
            "Column with the highest standard deviation: c\n",
            "Row with the lowest mean: 8\n"
          ]
        }
      ]
    },
    {
      "cell_type": "markdown",
      "source": [
        "### Question 11\n",
        "Add a new column to the dataframe called “f” which is the sum of the columns “a”, “b”, “c”, “d”, “e”. Create another column called “g”. The value in the column “g” should be “LT8” if the value in the column “f” is less than 8 and “GT8” otherwise. Find the number of rows in the dataframe where the value in the column “g” is “LT8”. Find the standard deviation of the column “f” for the rows where the value in the column “g” is “LT8” and “GT8” respectively."
      ],
      "metadata": {
        "id": "ls0NSgRAfKID"
      }
    },
    {
      "cell_type": "code",
      "source": [
        "import numpy as np\n",
        "import pandas as pd\n",
        "\n",
        "matrix=np.random.uniform(1,2,size=(20,5))\n",
        "df=pd.DataFrame(matrix,columns=['a','b','c','d','e'])\n",
        "\n",
        "df['f']=df[['a','b','c','d','e']].sum(axis=1)\n",
        "df['g']=np.where(df['f']<8,'LT8','GT8')\n",
        "\n",
        "lt8_count=df[df['g']=='LT8'].shape[0]\n",
        "\n",
        "std_lt8=df.loc[df['g']=='LT8','f'].std()\n",
        "std_gt8=df.loc[df['g']=='GT8','f'].std()\n",
        "\n",
        "print('DataFrame:')\n",
        "print(df)\n",
        "print()\n",
        "\n",
        "print(\"Number of rows where the value in column 'g' is 'LT8':\",lt8_count)\n",
        "print(\"Standard deviation of column 'f' for 'LT8':\",std_lt8)\n",
        "print(\"Standard deviation of column 'f' for 'GT8':\",std_gt8)\n"
      ],
      "metadata": {
        "colab": {
          "base_uri": "https://localhost:8080/"
        },
        "id": "rPjbkZS0fPoq",
        "outputId": "e36d18f5-5047-4132-c268-98b3b6a94324"
      },
      "execution_count": 10,
      "outputs": [
        {
          "output_type": "stream",
          "name": "stdout",
          "text": [
            "DataFrame:\n",
            "           a         b         c         d         e         f    g\n",
            "0   1.434649  1.202140  1.453728  1.657479  1.532437  7.280433  LT8\n",
            "1   1.747127  1.286307  1.893545  1.471527  1.723915  8.122421  GT8\n",
            "2   1.413720  1.649242  1.248804  1.026607  1.893230  7.231603  LT8\n",
            "3   1.407747  1.096122  1.968255  1.323071  1.834773  7.629969  LT8\n",
            "4   1.185247  1.985879  1.153745  1.041377  1.054449  6.420696  LT8\n",
            "5   1.103151  1.374534  1.521782  1.390074  1.053579  6.443121  LT8\n",
            "6   1.359774  1.756430  1.299695  1.120892  1.953161  7.489952  LT8\n",
            "7   1.469799  1.793442  1.776950  1.568153  1.835093  8.443437  GT8\n",
            "8   1.782761  1.702530  1.460878  1.650219  1.703751  8.300139  GT8\n",
            "9   1.197483  1.539325  1.477396  1.953537  1.994532  8.162273  GT8\n",
            "10  1.173566  1.623256  1.072432  1.903877  1.545214  7.318345  LT8\n",
            "11  1.959437  1.793553  1.073238  1.473804  1.000744  7.300776  LT8\n",
            "12  1.498924  1.709195  1.754123  1.706545  1.319012  7.987799  LT8\n",
            "13  1.722625  1.853669  1.604603  1.633840  1.366091  8.180829  GT8\n",
            "14  1.787635  1.521320  1.385294  1.109110  1.436978  7.240337  LT8\n",
            "15  1.187249  1.811686  1.385436  1.023834  1.332903  6.741109  LT8\n",
            "16  1.097356  1.507485  1.499659  1.729293  1.602320  7.436113  LT8\n",
            "17  1.402693  1.908221  1.632289  1.913596  1.891240  8.748039  GT8\n",
            "18  1.387246  1.708827  1.935765  1.759890  1.526464  8.318193  GT8\n",
            "19  1.353985  1.936952  1.325729  1.527745  1.058745  7.203157  LT8\n",
            "\n",
            "Number of rows where the value in column 'g' is 'LT8': 13\n",
            "Standard deviation of column 'f' for 'LT8': 0.44423893646010654\n",
            "Standard deviation of column 'f' for 'GT8': 0.21677844877208075\n"
          ]
        }
      ]
    },
    {
      "cell_type": "markdown",
      "source": [
        "### Question 12\n",
        "Write a small piece of code to explain broadcasting in numpy."
      ],
      "metadata": {
        "id": "NfSFH3lNg7aW"
      }
    },
    {
      "cell_type": "code",
      "source": [
        "import numpy as np\n",
        "\n",
        "mat=np.array([[1,2,3],[4,5,6]])\n",
        "res=mat+10\n",
        "\n",
        "col_scalars=np.array([1,10,100])\n",
        "res_multiply_col=mat*col_scalars\n",
        "\n",
        "print('Original Matrix:')\n",
        "print(mat)\n",
        "print()\n",
        "\n",
        "print('Adding a scalar using broadcasting:')\n",
        "print(res)\n",
        "print()\n",
        "\n",
        "print('Multiplying each column by a different scalar using broadcasting:')\n",
        "print(res_multiply_col)\n"
      ],
      "metadata": {
        "colab": {
          "base_uri": "https://localhost:8080/"
        },
        "id": "AvOKqmOChC2r",
        "outputId": "231bf557-5412-4e63-fd33-b2908a6ea604"
      },
      "execution_count": 11,
      "outputs": [
        {
          "output_type": "stream",
          "name": "stdout",
          "text": [
            "Original Matrix:\n",
            "[[1 2 3]\n",
            " [4 5 6]]\n",
            "\n",
            "Adding a scalar using broadcasting:\n",
            "[[11 12 13]\n",
            " [14 15 16]]\n",
            "\n",
            "Multiplying each column by a different scalar using broadcasting:\n",
            "[[  1  20 300]\n",
            " [  4  50 600]]\n"
          ]
        }
      ]
    },
    {
      "cell_type": "markdown",
      "source": [
        "### Question 13\n",
        "Write a function to compute the argmin of a numpy array. The function should take a numpy array as input and return the index of the minimum element. You can use the np.argmin function to verify your solution."
      ],
      "metadata": {
        "id": "-8lSzPAPig61"
      }
    },
    {
      "cell_type": "code",
      "source": [
        "import numpy as np\n",
        "\n",
        "def argmin(arr):\n",
        "    min_ele=arr[0]\n",
        "    min_ind=0\n",
        "    for i in range(1,len(arr)):\n",
        "        if arr[i]<min_ele:\n",
        "            min_ele=arr[i]\n",
        "            min_ind=i\n",
        "    return min_ind\n",
        "\n",
        "marr=[np.random.randint(1,10) for _ in range(10)]\n",
        "print(\"Array:\",marr)\n",
        "\n",
        "res=argmin(marr)\n",
        "print(\"My argmin result:\", res)\n",
        "\n",
        "np_argmin_res=np.argmin(marr)\n",
        "print(\"Numpy argmin result:\", np_argmin_res)"
      ],
      "metadata": {
        "colab": {
          "base_uri": "https://localhost:8080/"
        },
        "id": "qcn5lLXkisW5",
        "outputId": "86ec33a5-0d10-4ab9-ed4a-61d095f1b829"
      },
      "execution_count": 12,
      "outputs": [
        {
          "output_type": "stream",
          "name": "stdout",
          "text": [
            "Array: [4, 9, 1, 5, 6, 9, 6, 7, 3, 8]\n",
            "My argmin result: 2\n",
            "Numpy argmin result: 2\n"
          ]
        }
      ]
    }
  ]
}